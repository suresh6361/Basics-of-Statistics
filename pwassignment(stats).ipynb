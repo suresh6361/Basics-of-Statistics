{
  "nbformat": 4,
  "nbformat_minor": 0,
  "metadata": {
    "colab": {
      "provenance": []
    },
    "kernelspec": {
      "name": "python3",
      "display_name": "Python 3"
    },
    "language_info": {
      "name": "python"
    }
  },
  "cells": [
    {
      "cell_type": "markdown",
      "source": [
        "#Statistics Basics\n"
      ],
      "metadata": {
        "id": "sriJd1pgiqPY"
      }
    },
    {
      "cell_type": "markdown",
      "source": [
        "#Q1\n",
        "data can be classified as qualitative (nominal and ordinal) or quantitative (interval and ratio). Understanding these types and scales is crucial for selecting appropriate statistical methods and accurately interpreting results in research and analysis.\n",
        "Qualitative data, also known as categorical data, refers to non-numeric information that describes characteristics or qualities. This type of data is often used to capture subjective experiences, opinions, or attributes. examples\n",
        "Gender: Male, Female, Non-binary\n",
        "\n",
        "Qualitative data, also known as categorical data, refers to non-numeric information that describes characteristics or qualities. This type of data is often used to capture subjective experiences, opinions, or attributes. examples\n",
        "Age: 25 years\n",
        "\n",
        "\n"
      ],
      "metadata": {
        "id": "CEtqP8boi0I6"
      }
    },
    {
      "cell_type": "markdown",
      "source": [
        "#Q2\n",
        "Measures of central tendency are statistical metrics that summarize a set of data by identifying the central point within that dataset. The three most common measures of central tendency are the mean, median, and mode. The mean is the average of a set of numbers, calculated by adding all the values together and dividing by the number of values.The median is the middle value of a dataset when the numbers are arranged in ascending or descending order.The mode is the value that appears most frequently in a dataset. A dataset may have one mode, more than one mode (bimodal or multimodal), or no mode at all.\n"
      ],
      "metadata": {
        "id": "BqSwla9KjfMm"
      }
    },
    {
      "cell_type": "markdown",
      "source": [
        "#Q3\n",
        "Dispersion refers to the extent to which data points in a dataset differ from each other and from the overall average (mean) of the dataset. It provides insight into the variability or spread of the data, indicating how much the values deviate from the central tendency. Understanding dispersion is crucial in statistics because it helps to assess the reliability and consistency of the data. both variance and standard deviation are essential measures of dispersion that help to understand the spread of data. Variance provides a mathematical measure of variability, while standard deviation offers a more interpretable measure in the same units as the data. Together, they help to assess the reliability and consistency of the data, which is crucial for statistical analysis and decision-making.\n",
        "\n"
      ],
      "metadata": {
        "id": "qEqhtuglEEVs"
      }
    },
    {
      "cell_type": "markdown",
      "source": [
        "#Q4\n",
        "box plot, also known as a whisker plot, is a standardized way of displaying the distribution of data based on a five-number summary: the minimum, first quartile (Q1), median (Q2), third quartile (Q3), and maximum. It provides a visual representation of the central tendency, variability, and skewness of the data, as well as potential outliers.\n",
        "What a Box Plot Can Tell You: centeral tendancy, comparisons, spread of data, outliars."
      ],
      "metadata": {
        "id": "2eEDskjREeV8"
      }
    },
    {
      "cell_type": "markdown",
      "source": [
        "#Q5\n",
        "Random sampling plays a crucial role in making inferences about populations in statistical research. It is a method used to select a subset of individuals from a larger population in such a way that every individual has an equal chance of being chosen.By ensuring representativeness, reducing bias, and allowing for the application of statistical methods, random sampling is essential for drawing accurate conclusions and making informed decisions based on sample data."
      ],
      "metadata": {
        "id": "4dDHyYj1FLWu"
      }
    },
    {
      "cell_type": "markdown",
      "source": [
        "#Q6\n",
        "Skewness is a statistical measure that describes the asymmetry of a probability distribution. It indicates the direction and degree of distortion from the symmetrical bell curve (normal distribution). In simpler terms, skewness helps us understand whether the data points in a dataset are concentrated on one side of the mean or are evenly distributed around it.\n",
        "Types of Skewness\n",
        "Positive Skewness (Right Skewness)\n",
        "Negative Skewness (Left Skewness)\n",
        "Zero Skewness (Symmetrical Distribution)\n",
        "\n",
        "Effects of Skewness on Data Interpretation\n",
        "Mean vs. Median\n",
        "Data Analysis and Decision Making\n",
        "Outlier Detection\n",
        "risk assesment\n",
        "\n",
        "\n",
        "\n"
      ],
      "metadata": {
        "id": "rdttHMKMFmcx"
      }
    },
    {
      "cell_type": "markdown",
      "source": [
        "#Q7\n",
        "The interquartile range (IQR) is a measure of statistical dispersion that represents the range within which the central 50% of a data set lies. It is calculated as the difference between the third quartile (Q3) and the first quartile (Q1):\n",
        "\n",
        "[ \\text{IQR} = Q3 - Q1 ]\n",
        "\n",
        "Q1 (First Quartile): The median of the lower half of the data set (25th percentile).\n",
        "Q3 (Third Quartile): The median of the upper half of the data set (75th percentile).\n",
        "How IQR is Used to Detect Outliers\n",
        "Outliers are data points that are significantly different from the rest of the data. The IQR is commonly used to identify these outliers through the following steps:\n",
        "\n",
        "Calculate Q1 and Q3: Determine the first and third quartiles of the data set.\n",
        "\n",
        "Calculate the IQR: Subtract Q1 from Q3.\n",
        "\n",
        "Determine the Outlier Boundaries:\n",
        "\n",
        "Calculate the lower boundary: ( Q1 - 1.5 \\times \\text{IQR} )\n",
        "Calculate the upper boundary: ( Q3 + 1.5 \\times \\text{IQR} )\n",
        "Identify Outliers: Any data point that falls below the lower boundary or above the upper boundary is considered an outlier.\n",
        "\n"
      ],
      "metadata": {
        "id": "FlfepXjYG0MM"
      }
    },
    {
      "cell_type": "markdown",
      "source": [
        "#Q8\n",
        "The conditions under which the binomial distribution is used are as follows:\n",
        "\n",
        "Fixed Number of Trials (n): The experiment consists of a predetermined number of trials, denoted as ( n ). This number must be constant throughout the experiment.\n",
        "\n",
        "Two Possible Outcomes: Each trial results in one of two outcomes, commonly referred to as \"success\" and \"failure.\" For example, in a coin toss, the outcomes could be heads (success) and tails (failure).\n",
        "\n",
        "Constant Probability of Success (p): The probability of success, denoted as ( p ), remains constant for each trial. This means that the likelihood of achieving a success does not change from one trial to the next.\n",
        "\n",
        "Independence of Trials: The trials must be independent, meaning the outcome of one trial does not affect the outcome of another. For instance, the result of one coin toss does not influence the result of the next toss.\n",
        "\n"
      ],
      "metadata": {
        "id": "Wp67osp8HYr5"
      }
    },
    {
      "cell_type": "markdown",
      "source": [
        "#Q9\n",
        "Properties of the Normal Distribution:\n",
        "Symmetry: The normal distribution is perfectly symmetrical around its mean. This means that the left half of the distribution is a mirror image of the right half.\n",
        "\n",
        "Mean, Median, and Mode: In a normal distribution, the mean, median, and mode are all equal and located at the center of the distribution.\n",
        "\n",
        "Bell-Shaped Curve: The graph of the normal distribution is bell-shaped, with the highest point at the mean. As you move away from the mean, the probabilities decrease.\n",
        "\n",
        "Defined by Two Parameters: The normal distribution is completely defined by two parameters: the mean (μ) and the standard deviation (σ). The mean determines the center of the distribution, while the standard deviation determines the spread or width of the distribution.\n",
        "\n"
      ],
      "metadata": {
        "id": "1oUIWb6mHvI2"
      }
    },
    {
      "cell_type": "markdown",
      "source": [
        "#Q10\n",
        "Let's calculate the probability that the call center receives exactly 5 calls in one hour.\n",
        "\n",
        "Set ( \\lambda = 10 ) (the average number of calls).\n",
        "Set ( k = 5 ) (the number of calls we want to find the probability for).\n",
        "Using the formula:\n",
        "\n",
        "[ P(X = 5) = \\frac{e^{-10} \\cdot 10^5}{5!} ]\n",
        "\n",
        "Calculating each component:\n",
        "\n",
        "( e^{-10} \\approx 0.0000453999 )\n",
        "( 10^5 = 100000 )\n",
        "( 5! = 120 )\n",
        "Now plug these values into the formula:\n",
        "\n",
        "[ P(X = 5) = \\frac{0.0000453999 \\cdot 100000}{120} ]\n",
        "\n",
        "Calculating the numerator:\n",
        "\n",
        "[ 0.0000453999 \\cdot 100000 \\approx 4.53999 ]\n",
        "\n",
        "Now divide by ( 120 ):\n",
        "\n",
        "[ P(X = 5) \\approx \\frac{4.53999}{120} \\approx 0.03783 ]\n",
        "\n"
      ],
      "metadata": {
        "id": "i7-idAJ8IBw6"
      }
    },
    {
      "cell_type": "markdown",
      "source": [
        "#Q11\n",
        "random variable is a numerical outcome of a random phenomenon. It is a function that assigns a real number to each outcome in a sample space of a random experiment. Random variables are used in statistics and probability theory to quantify uncertainty and to model random processes.\n",
        "\n",
        "Random variables can be classified into two main types: discrete random variables and continuous random variables.\n",
        "\n",
        "Discrete Random Variables\n",
        "A discrete random variable is one that can take on a countable number of distinct values. This means that the possible values can be listed out, even if the list is infinite (as long as it can be counted). Discrete random variables often arise in situations where outcomes are whole numbers or specific categories.\n",
        "\n",
        "Continuous Random Variables\n",
        "\n",
        "A continuous random variable, on the other hand, can take on an infinite number of possible values within a given range. These values are not countable and can include any number within an interval. Continuous random variables are typically associated with measurements and can take on any value within a specified range."
      ],
      "metadata": {
        "id": "XFVsyBJqIoZ0"
      }
    },
    {
      "cell_type": "markdown",
      "source": [
        "#Q12\n",
        "Calculate the Covariance\n",
        "Covariance measures the degree to which two variables change together. The formula for covariance is:\n",
        "\n",
        "[ \\text{Cov}(X, Y) = \\frac{1}{n-1} \\sum_{i=1}^{n} (X_i - \\bar{X})(Y_i - \\bar{Y}) ]\n",
        "\n",
        "Where:\n",
        "\n",
        "(n) is the number of observations\n",
        "(\\bar{X}) is the mean of (X)\n",
        "(\\bar{Y}) is the mean of (Y)\n",
        "Calculating the means:\n",
        "\n",
        "[ \\bar{X} = \\frac{2 + 4 + 6 + 8 + 10}{5} = \\frac{30}{5} = 6 ]\n",
        "\n",
        "[ \\bar{Y} = \\frac{3 + 5 + 7 + 9 + 11}{5} = \\frac{35}{5} = 7 ]\n",
        "\n",
        "Calculating the covariance:\n",
        "\n",
        "Now we calculate each term in the sum:\n",
        "\n",
        "[ \\begin{align*} (X_1 - \\bar{X})(Y_1 - \\bar{Y}) & = (2 - 6)(3 - 7) = (-4)(-4) = 16 \\ (X_2 - \\bar{X})(Y_2 - \\bar{Y}) & = (4 - 6)(5 - 7) = (-2)(-2) = 4 \\ (X_3 - \\bar{X})(Y_3 - \\bar{Y}) & = (6 - 6)(7 - 7) = (0)(0) = 0 \\ (X_4 - \\bar{X})(Y_4 - \\bar{Y}) & = (8 - 6)(9 - 7) = (2)(2) = 4 \\ (X_5 - \\bar{X})(Y_5 - \\bar{Y}) & = (10 - 6)(11 - 7) = (4)(4) = 16 \\ \\end{align*} ]\n",
        "\n",
        "Now sum these products:\n",
        "\n",
        "[ \\sum (X_i - \\bar{X})(Y_i - \\bar{Y}) = 16 + 4 + 0 + 4 + 16 = 40 ]\n",
        "\n",
        "Now, divide by (n-1):\n",
        "\n",
        "[ \\text{Cov}(X, Y) = \\frac{40}{5-1} = \\frac{40}{4} = 10 ]\n",
        "\n",
        "Step 2: Calculate the Correlation\n",
        "Correlation is a standardized measure of the relationship between two variables. The formula for Pearson correlation coefficient (r) is:\n",
        "\n",
        "[ r = \\frac{\\text{Cov}(X, Y)}{\\sigma_X \\sigma_Y} ]\n",
        "\n",
        "Where:\n",
        "\n",
        "(\\sigma_X) is the standard deviation of (X)\n",
        "(\\sigma_Y) is the standard deviation of (Y)"
      ],
      "metadata": {
        "id": "UTiUMplVJKmF"
      }
    }
  ]
}